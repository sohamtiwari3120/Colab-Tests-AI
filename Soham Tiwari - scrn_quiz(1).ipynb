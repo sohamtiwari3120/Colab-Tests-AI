{
 "cells": [
  {
   "cell_type": "markdown",
   "metadata": {
    "colab_type": "text",
    "id": "n0j8VqHv9QsH"
   },
   "source": [
    "## 1(points 1)\n",
    "Return the size of list.<br>\n",
    "Example- list_size([1,2,3,4]) --> 4"
   ]
  },
  {
   "cell_type": "code",
   "execution_count": null,
   "metadata": {
    "colab": {},
    "colab_type": "code",
    "deletable": false,
    "id": "zcyRgbn09QsN",
    "nbgrader": {
     "checksum": "8fe7b2a9f1649001b0483954a7a2d592",
     "grade": false,
     "grade_id": "cell-4ea7ecd582660607",
     "locked": false,
     "schema_version": 1,
     "solution": true
    }
   },
   "outputs": [],
   "source": [
    "def list_size(l):\n",
    "    # YOUR CODE HERE"
   ]
  },
  {
   "cell_type": "code",
   "execution_count": null,
   "metadata": {
    "colab": {
     "base_uri": "https://localhost:8080/",
     "height": 34
    },
    "colab_type": "code",
    "deletable": false,
    "editable": false,
    "id": "hCLfvyVq9s3z",
    "nbgrader": {
     "checksum": "d2bfd8d397df26ed449b42a0820fc486",
     "grade": true,
     "grade_id": "cell-d03ede8261ade7b1",
     "locked": true,
     "points": 1,
     "schema_version": 1,
     "solution": false
    },
    "outputId": "7e9308c0-54e4-4732-b7f8-9ca426873df1"
   },
   "outputs": [],
   "source": [
    "\"\"\"Testing code for last element\"\"\"\n",
    "assert list_size([1,2,3,4,5 ]) == 5\n",
    "\n",
    "\n",
    "print(\"Sample Tests passed\", '\\U0001F44D')"
   ]
  },
  {
   "cell_type": "markdown",
   "metadata": {
    "colab_type": "text",
    "id": "t2aNdEIG9Qsa"
   },
   "source": [
    "## 2(points 1)\n",
    "Return list of last five element of the given list.<br>\n",
    "Example- def last_five(['a','b','c','d','e','f','g','h'])-->['d','e','f','g','h']"
   ]
  },
  {
   "cell_type": "code",
   "execution_count": null,
   "metadata": {
    "colab": {},
    "colab_type": "code",
    "deletable": false,
    "id": "xRYCB1lW9Qsc",
    "nbgrader": {
     "checksum": "6f53f7655b91fded6e6020edad814e7f",
     "grade": false,
     "grade_id": "cell-016db993367a12c3",
     "locked": false,
     "schema_version": 1,
     "solution": true
    }
   },
   "outputs": [],
   "source": [
    "def last_five(l):\n",
    "    # YOUR CODE HERE"
   ]
  },
  {
   "cell_type": "code",
   "execution_count": null,
   "metadata": {
    "colab": {},
    "colab_type": "code",
    "deletable": false,
    "editable": false,
    "id": "gbycLMkR_pSI",
    "nbgrader": {
     "checksum": "36000ebda2b0fda99fb3744f4178f7cb",
     "grade": true,
     "grade_id": "cell-50a0e61c4a912ec2",
     "locked": true,
     "points": 1,
     "schema_version": 1,
     "solution": false
    }
   },
   "outputs": [],
   "source": [
    "\"\"\"Testing code for last five elements\"\"\"\n",
    "assert last_five([1,2,3,4,5,6,7]) == [3,4,5,6,7]\n",
    "\n",
    "\n",
    "print(\"Sample Tests passed\", '\\U0001F44D')"
   ]
  },
  {
   "cell_type": "markdown",
   "metadata": {
    "colab_type": "text",
    "id": "6ZO5nlzG9Qsl"
   },
   "source": [
    "## 3(points 1)\n",
    "Check whether given element exists in the list or not. If it exists the return True otherwise return False .<br>\n",
    "Example - check_elem(['a','b','c','d','e','f','g','h'], 'a') -->True <br>\n",
    "          check_elem(['a','b','c','d','e','f','g','h'], 'k') --> False"
   ]
  },
  {
   "cell_type": "code",
   "execution_count": null,
   "metadata": {
    "colab": {},
    "colab_type": "code",
    "deletable": false,
    "id": "OLIbfvfQ9Qso",
    "nbgrader": {
     "checksum": "01443710dfc53d73fd24f8b6ccb14253",
     "grade": false,
     "grade_id": "cell-a69dc315a4b7af64",
     "locked": false,
     "schema_version": 1,
     "solution": true
    }
   },
   "outputs": [],
   "source": [
    "def check_elem(l,elem):\n",
    "    # YOUR CODE HERE"
   ]
  },
  {
   "cell_type": "code",
   "execution_count": null,
   "metadata": {
    "colab": {
     "base_uri": "https://localhost:8080/",
     "height": 34
    },
    "colab_type": "code",
    "deletable": false,
    "editable": false,
    "id": "0MN02b_fC1oz",
    "nbgrader": {
     "checksum": "f5a933dd669258c921b0fe3685d594f5",
     "grade": true,
     "grade_id": "cell-8124565837ba565a",
     "locked": true,
     "points": 0,
     "schema_version": 1,
     "solution": false
    },
    "outputId": "2b145b0d-788c-4211-922d-0db21b70625c"
   },
   "outputs": [],
   "source": [
    "\"\"\"Testing code to check check_elem \"\"\"\n",
    "assert check_elem([1,2,3,4,5,6,7],10) == False\n",
    "\n",
    "\n",
    "print(\"Sample Tests passed\", '\\U0001F44D')"
   ]
  },
  {
   "cell_type": "markdown",
   "metadata": {
    "colab_type": "text",
    "id": "31a1hYUc9Qsv"
   },
   "source": [
    "## 4(points 1)\n",
    "Multiply the elements of a list and return the product.<br>\n",
    "Example- mult_value([1,2,3,4,5])-->120"
   ]
  },
  {
   "cell_type": "code",
   "execution_count": null,
   "metadata": {
    "colab": {},
    "colab_type": "code",
    "deletable": false,
    "id": "bX8apFe89Qsy",
    "nbgrader": {
     "checksum": "209fb522f6719800829eba8d7a25bfa4",
     "grade": false,
     "grade_id": "cell-475ae2a35856e5a0",
     "locked": false,
     "schema_version": 1,
     "solution": true
    }
   },
   "outputs": [],
   "source": [
    "def mult_value(l):\n",
    "    # YOUR CODE HERE"
   ]
  },
  {
   "cell_type": "code",
   "execution_count": null,
   "metadata": {
    "colab": {
     "base_uri": "https://localhost:8080/",
     "height": 34
    },
    "colab_type": "code",
    "deletable": false,
    "editable": false,
    "id": "gY4cYDFtEK_8",
    "nbgrader": {
     "checksum": "41139b1010d2efb3d61fc2595c1cbca2",
     "grade": true,
     "grade_id": "cell-53c0f4136b48a1e6",
     "locked": true,
     "points": 1,
     "schema_version": 1,
     "solution": false
    },
    "outputId": "d82e519d-5066-4aff-8675-1dc0ab43fc2d"
   },
   "outputs": [],
   "source": [
    "\"\"\"Testing code for mult_value \"\"\"\n",
    "assert mult_value([1,2,3,4]) == 24\n",
    "\n",
    "\n",
    "print(\"Sample Tests passed\", '\\U0001F44D')"
   ]
  },
  {
   "cell_type": "markdown",
   "metadata": {
    "colab_type": "text",
    "id": "MIXqNGfJ9Qs6"
   },
   "source": [
    "## 5(points 1)\n",
    "Return the number of occurences of given element in a list.<br>\n",
    "Example- Element_rept([1,2,3,4,1,2,3,1,1,5] , 1)-->4<br>\n",
    "Element_rept(['a','f','g','h','c','s','d','f','a','b','c','d'], c)--> 2"
   ]
  },
  {
   "cell_type": "code",
   "execution_count": null,
   "metadata": {
    "colab": {},
    "colab_type": "code",
    "deletable": false,
    "id": "q81sESnt9Qs8",
    "nbgrader": {
     "checksum": "a2b9ca983300128e08c530e3f249026d",
     "grade": false,
     "grade_id": "cell-8b862b06e84772bf",
     "locked": false,
     "schema_version": 1,
     "solution": true
    }
   },
   "outputs": [],
   "source": [
    "def Element_rept(l,element):\n",
    "    # YOUR CODE HERE"
   ]
  },
  {
   "cell_type": "code",
   "execution_count": null,
   "metadata": {
    "colab": {
     "base_uri": "https://localhost:8080/",
     "height": 34
    },
    "colab_type": "code",
    "deletable": false,
    "editable": false,
    "id": "wU6UX_grFoUB",
    "nbgrader": {
     "checksum": "635ad64c00965eec735a269d5d60f48b",
     "grade": true,
     "grade_id": "cell-a702834de0ce86f7",
     "locked": true,
     "points": 1,
     "schema_version": 1,
     "solution": false
    },
    "outputId": "810b704c-0004-45da-dbd9-5cb1857665c4"
   },
   "outputs": [],
   "source": [
    "\"\"\"Testing code to return the value after Multiplication \"\"\"\n",
    "assert Element_rept([1,4,1,2,3,1,5],10) == 0\n",
    "assert Element_rept(['k','f','g','h','k','s','d','f','a','b','c','d'],'k') == 2\n",
    "\n",
    "print(\"Sample Tests passed\", '\\U0001F44D')"
   ]
  },
  {
   "cell_type": "markdown",
   "metadata": {
    "colab_type": "text",
    "id": "Fx_zx2Zw9QtD"
   },
   "source": [
    "## 6(points 1)\n",
    "Return the number of keys in a dictionary.<br>\n",
    "Example- dict_size({1:\"akshay\", 2:\"vikash\"})-->2"
   ]
  },
  {
   "cell_type": "code",
   "execution_count": null,
   "metadata": {
    "colab": {},
    "colab_type": "code",
    "deletable": false,
    "id": "OUswJgFM9QtG",
    "nbgrader": {
     "checksum": "6ef7da7aedfbe86a17d51cd9958c3978",
     "grade": false,
     "grade_id": "cell-5f395a5882659f1c",
     "locked": false,
     "schema_version": 1,
     "solution": true
    }
   },
   "outputs": [],
   "source": [
    "def dict_size(d):\n",
    "    # YOUR CODE HERE"
   ]
  },
  {
   "cell_type": "code",
   "execution_count": null,
   "metadata": {
    "colab": {
     "base_uri": "https://localhost:8080/",
     "height": 34
    },
    "colab_type": "code",
    "deletable": false,
    "editable": false,
    "id": "EgOAPhgMIfaT",
    "nbgrader": {
     "checksum": "165f351c12063d79d71256b4a5087943",
     "grade": true,
     "grade_id": "cell-1ced6f5a600fae1a",
     "locked": true,
     "points": 1,
     "schema_version": 1,
     "solution": false
    },
    "outputId": "10364ba7-6f10-4d3f-da63-6173f21d32bd"
   },
   "outputs": [],
   "source": [
    "\"\"\"Testing code to return the length\"\"\"\n",
    "\n",
    "assert dict_size({1:1,2:2,3:3 }) == 3\n",
    "\n",
    "\n",
    "print(\"Sample Tests passed\", '\\U0001F44D')"
   ]
  },
  {
   "cell_type": "markdown",
   "metadata": {
    "colab_type": "text",
    "id": "vsYZWylf9QtN"
   },
   "source": [
    "## 7(points 1)\n",
    "Return sorted list of keys of a dictionary.<br>\n",
    "Examle- Sort_keyList({5:'IIT K',10:\"IIT Jodhpur\",3:\"IIT Jaipur\"})-->[3,5,10]"
   ]
  },
  {
   "cell_type": "code",
   "execution_count": null,
   "metadata": {
    "colab": {},
    "colab_type": "code",
    "deletable": false,
    "id": "zMIh2HB09QtP",
    "nbgrader": {
     "checksum": "5f8eef1bdb571cd555142ee03f25d704",
     "grade": false,
     "grade_id": "cell-873ae424c0c727f7",
     "locked": false,
     "schema_version": 1,
     "solution": true
    }
   },
   "outputs": [],
   "source": [
    "def Sort_keyList(d):\n",
    "    # YOUR CODE HERE"
   ]
  },
  {
   "cell_type": "code",
   "execution_count": null,
   "metadata": {
    "colab": {
     "base_uri": "https://localhost:8080/",
     "height": 34
    },
    "colab_type": "code",
    "deletable": false,
    "editable": false,
    "id": "yHxb17wCJl0n",
    "nbgrader": {
     "checksum": "6a06716723571886550a9d5219e906ea",
     "grade": true,
     "grade_id": "cell-d742cc724f24e259",
     "locked": true,
     "points": 1,
     "schema_version": 1,
     "solution": false
    },
    "outputId": "20c8ed46-9636-456c-984e-b329d515448a"
   },
   "outputs": [],
   "source": [
    "\"\"\"Testing code to sort the dictionary\"\"\"\n",
    "assert Sort_keyList({5:'IIT K',10:\"IIT Jodhpur\",3:\"IIT Jaipur\"}) == [3,5,10]\n",
    "\n",
    "\n",
    "print(\"Sample Tests passed\", '\\U0001F44D')"
   ]
  },
  {
   "cell_type": "markdown",
   "metadata": {
    "colab_type": "text",
    "id": "QmGPnr8b9QtV"
   },
   "source": [
    "## 8(points 2)\n",
    "Check wether given number is prime or not. If yes then retun 1, otherwise return 0.<br>\n",
    "Example- is_prime(5) --> 1<br>\n",
    "         is_prime(4) --> 0"
   ]
  },
  {
   "cell_type": "code",
   "execution_count": null,
   "metadata": {
    "colab": {},
    "colab_type": "code",
    "deletable": false,
    "id": "OFk7Eu3S9QtY",
    "nbgrader": {
     "checksum": "03cbed5ecb2ebbc2c83ee7a9f9e9c47b",
     "grade": false,
     "grade_id": "cell-3d0177977d340dd4",
     "locked": false,
     "schema_version": 1,
     "solution": true
    }
   },
   "outputs": [],
   "source": [
    "def is_prime(n):\n",
    "    # YOUR CODE HERE"
   ]
  },
  {
   "cell_type": "code",
   "execution_count": null,
   "metadata": {
    "colab": {
     "base_uri": "https://localhost:8080/",
     "height": 34
    },
    "colab_type": "code",
    "deletable": false,
    "editable": false,
    "id": "P1kOLnOWLVuC",
    "nbgrader": {
     "checksum": "d29de1f01047516469d763323f1d97f0",
     "grade": true,
     "grade_id": "cell-ca1e99b17ed7b3c9",
     "locked": true,
     "points": 2,
     "schema_version": 1,
     "solution": false
    },
    "outputId": "38884e71-251f-45f7-98cc-7d042dfc392f"
   },
   "outputs": [],
   "source": [
    "\"\"\"Testing code to check given number is prime or not \"\"\"\n",
    "assert is_prime(13) == 1\n",
    "\n",
    "\n",
    "print(\"Sample Tests passed\", '\\U0001F44D')"
   ]
  },
  {
   "cell_type": "markdown",
   "metadata": {
    "colab_type": "text",
    "id": "brmymJVE9Qtg"
   },
   "source": [
    "## 9(points 1)\n",
    "Using the above fuction to return list of prime number from a to b (including both a and b).<br>\n",
    "Example- primeNumberList(1,10)-->[2, 3, 5, 7]<br>\n",
    "        "
   ]
  },
  {
   "cell_type": "code",
   "execution_count": null,
   "metadata": {
    "colab": {},
    "colab_type": "code",
    "deletable": false,
    "id": "vRjYj9Oq9Qth",
    "nbgrader": {
     "checksum": "fbd6e2831e75bbdb5eb30a1a0155d39c",
     "grade": false,
     "grade_id": "cell-cc0a47cce1c28242",
     "locked": false,
     "schema_version": 1,
     "solution": true
    }
   },
   "outputs": [],
   "source": [
    "def primeNumberList(a,b):\n",
    "    # YOUR CODE HERE"
   ]
  },
  {
   "cell_type": "code",
   "execution_count": null,
   "metadata": {
    "colab": {
     "base_uri": "https://localhost:8080/",
     "height": 34
    },
    "colab_type": "code",
    "deletable": false,
    "editable": false,
    "id": "VHMd5d13Mc8R",
    "nbgrader": {
     "checksum": "6e46f18a61a55c9d6b7a09a7abe39628",
     "grade": true,
     "grade_id": "cell-7b15a712a22ba93b",
     "locked": true,
     "points": 1,
     "schema_version": 1,
     "solution": false
    },
    "outputId": "7227327a-3bbc-45ea-f6a5-2b0b5a9c5c58"
   },
   "outputs": [],
   "source": [
    "\"\"\"Testing code to list of prime number \"\"\"\n",
    "assert primeNumberList(2,10) == [2, 3, 5, 7]\n",
    "\n",
    "\n",
    "print(\"Sample Tests passed\", '\\U0001F44D')"
   ]
  },
  {
   "cell_type": "markdown",
   "metadata": {
    "colab_type": "text",
    "id": "OkouAcn29Qtn"
   },
   "source": [
    "## 10(points 2)\n",
    "Return GCD of two number.<br>\n",
    "Example- Gcd(2,10)-->2<br>\n",
    "         Gcd(7,9)-->1"
   ]
  },
  {
   "cell_type": "code",
   "execution_count": null,
   "metadata": {
    "colab": {},
    "colab_type": "code",
    "deletable": false,
    "id": "D_ArTqaQ9Qto",
    "nbgrader": {
     "checksum": "24fed79a54f25564b77082c05ccd7216",
     "grade": false,
     "grade_id": "cell-b594c4e142f9275c",
     "locked": false,
     "schema_version": 1,
     "solution": true
    }
   },
   "outputs": [],
   "source": [
    "def Gcd(a,b):\n",
    "    # YOUR CODE HERE"
   ]
  },
  {
   "cell_type": "code",
   "execution_count": null,
   "metadata": {
    "colab": {
     "base_uri": "https://localhost:8080/",
     "height": 34
    },
    "colab_type": "code",
    "deletable": false,
    "editable": false,
    "id": "X3A6sFyy9Qtu",
    "nbgrader": {
     "checksum": "85e46214820c61025201b14307992770",
     "grade": true,
     "grade_id": "cell-92b67715a65b4b0b",
     "locked": true,
     "points": 2,
     "schema_version": 1,
     "solution": false
    },
    "outputId": "6face9aa-2de9-478e-b55b-317c235fca49"
   },
   "outputs": [],
   "source": [
    "\"\"\"Testing code to return gcd\"\"\"\n",
    "assert Gcd(2,10) == 2\n",
    " \n",
    "\n",
    "print(\"Sample Tests passed\", '\\U0001F44D')"
   ]
  },
  {
   "cell_type": "markdown",
   "metadata": {
    "colab": {},
    "colab_type": "code",
    "id": "jTf1HHdj9Qt5"
   },
   "source": [
    "## 11(points 4)\n",
    "Return a list of k-element combinations of elements in a list l\n",
    "\n",
    "Example - comb([1, 2, 3, 4], 3) --> [[1, 2, 3], [1, 2, 4], [1, 3, 4], [2, 3, 4]]\n"
   ]
  },
  {
   "cell_type": "code",
   "execution_count": null,
   "metadata": {
    "deletable": false,
    "nbgrader": {
     "checksum": "572b086e0fca7af1b8673741054312ec",
     "grade": false,
     "grade_id": "cell-a0a00f70e28b12f6",
     "locked": false,
     "schema_version": 1,
     "solution": true
    }
   },
   "outputs": [],
   "source": [
    "def comb(l, k):\n",
    "    \"\"\"\n",
    "    Input:\n",
    "        l - list\n",
    "        k - size of each combination\n",
    "    Output:\n",
    "        list of k-sized combination of elements from l\n",
    "        Each k-sized combination should be a sorted list.\n",
    "        For eg., [1, 2], [1, 3] and [2, 3] are sorted 2-sized combination lists\n",
    "    \"\"\"\n",
    "    # YOUR CODE HERE"
   ]
  },
  {
   "cell_type": "code",
   "execution_count": null,
   "metadata": {
    "deletable": false,
    "editable": false,
    "nbgrader": {
     "checksum": "ece9bb76965b3de09fea59a704848b58",
     "grade": true,
     "grade_id": "cell-44880bb9c9f2437e",
     "locked": true,
     "points": 4,
     "schema_version": 1,
     "solution": false
    }
   },
   "outputs": [],
   "source": [
    "\"Testing code for comb\"\n",
    "assert [1, 2] in comb([1, 2, 3], 2)\n",
    "assert [1, 3] in comb([1, 2, 3], 2)\n",
    "assert [2, 3] in comb([1, 2, 3], 2)\n",
    "\n",
    "print(\"Sample Tests passed\", '\\U0001F44D')"
   ]
  },
  {
   "cell_type": "code",
   "execution_count": null,
   "metadata": {},
   "outputs": [],
   "source": []
  }
 ],
 "metadata": {
  "colab": {
   "collapsed_sections": [],
   "name": "Quiz_1_checkpoint.ipynb",
   "provenance": [],
   "version": "0.3.2"
  },
  "kernelspec": {
   "display_name": "Python 3",
   "language": "python",
   "name": "python3"
  },
  "language_info": {
   "codemirror_mode": {
    "name": "ipython",
    "version": 3
   },
   "file_extension": ".py",
   "mimetype": "text/x-python",
   "name": "python",
   "nbconvert_exporter": "python",
   "pygments_lexer": "ipython3",
   "version": "3.6.8"
  }
 },
 "nbformat": 4,
 "nbformat_minor": 1
}
